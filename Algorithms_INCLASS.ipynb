{
 "cells": [
  {
   "cell_type": "markdown",
   "metadata": {},
   "source": [
    "# Algorithms, Binary Search & Linked Lists"
   ]
  },
  {
   "cell_type": "markdown",
   "metadata": {},
   "source": [
    "## Tasks Today:\n",
    " \n",
    "1) <b>In-Place Algorithms</b> <br>\n",
    " &nbsp;&nbsp;&nbsp;&nbsp; a) Syntax <br>\n",
    " &nbsp;&nbsp;&nbsp;&nbsp; a) Out of Place Algorithm <br>\n",
    " &nbsp;&nbsp;&nbsp;&nbsp; b) In-Class Exercise #1 <br>\n",
    "2) <b>Two Pointers</b> <br>\n",
    "3) <b>Linked Lists</b> <br>\n",
    "4) <b>Merge Sort</b> <br>\n",
    " &nbsp;&nbsp;&nbsp;&nbsp; a) Video on Algorithms <br>\n",
    " &nbsp;&nbsp;&nbsp;&nbsp; b) How it Works <br>\n",
    "5) <b>Exercises</b> <br>\n",
    " &nbsp;&nbsp;&nbsp;&nbsp; a) Exercise #1 - Reverse a List in Place Using an In-Place Algorithm <br>\n",
    " &nbsp;&nbsp;&nbsp;&nbsp; b) Exercise #2 - Find Distinct Words <br>\n",
    " &nbsp;&nbsp;&nbsp;&nbsp; c) Exercise #3 - Write a program to implement a Linear Search Algorithm. <br>"
   ]
  },
  {
   "cell_type": "markdown",
   "metadata": {},
   "source": [
    "## In-Place Algorithms"
   ]
  },
  {
   "cell_type": "markdown",
   "metadata": {},
   "source": [
    "#### Syntax"
   ]
  },
  {
   "cell_type": "code",
   "execution_count": 2,
   "metadata": {},
   "outputs": [
    {
     "name": "stdout",
     "output_type": "stream",
     "text": [
      "4607535616\n"
     ]
    }
   ],
   "source": [
    " \n",
    "\n",
    "\n",
    "# in place is an algo that modifiy's the variable in its place in memory. you do not have to retore or resassign the variable\n",
    "#  use .sort() or sorted()\n",
    "\n",
    "def swap(alist, x,y,z):\n",
    "    alist[x], alist[y], alist[z] = alist[y], alist[z], alist[x]\n",
    "    #  because we are changing it at the index, this is in place\n",
    "\n",
    "my_list = [1,2,3]\n",
    "swap(my_list, 0,1,2)\n",
    "print(my_list)\n",
    "# print(id(my_list))\n"
   ]
  },
  {
   "cell_type": "markdown",
   "metadata": {},
   "source": [
    "#### Out of Place Algorithm"
   ]
  },
  {
   "cell_type": "code",
   "execution_count": 3,
   "metadata": {},
   "outputs": [
    {
     "name": "stdout",
     "output_type": "stream",
     "text": [
      "4622371072\n",
      "[3, 2, 1]\n",
      "4622371264\n"
     ]
    }
   ],
   "source": [
    "\n",
    "#  out of place = returns vaule that I need to store somewhere takes in the variable , you must restore modifcations in a new location\n",
    "# do not modifiy the original, they use the values, but restore the mods in a new memeory/variable\n",
    "\n",
    "def out_swap(alist):\n",
    "    output = []\n",
    "    for ele in alist[::-1]:\n",
    "        output.append(ele)\n",
    "    return output\n",
    "\n",
    "my_list = [1,2,3]\n",
    "print(id(my_list))\n",
    "\n",
    "my_list = out_swap(my_list)\n",
    "\n",
    "print(my_list)\n",
    "print(id(my_list))\n"
   ]
  },
  {
   "cell_type": "markdown",
   "metadata": {},
   "source": [
    "#### In-Class Exercise #1 <br>\n",
    "<p>Write a function that takes in four arguments (list, index1, index2, index3), and swaps those three positions in the list passed in.</p>"
   ]
  },
  {
   "cell_type": "code",
   "execution_count": 4,
   "metadata": {},
   "outputs": [
    {
     "name": "stdout",
     "output_type": "stream",
     "text": [
      "[10, 3, 8, 4, 4, 2, 6]\n"
     ]
    }
   ],
   "source": [
    "l_1 = [10, 4, 3, 8, 4, 2, 6]\n",
    "\n",
    "\n",
    "def swap(alist, x,y,z):\n",
    "    alist[x], alist[y], alist[z] = alist[y], alist[z], alist[x]\n",
    "    #  because we are changing it at the index, this is in place\n",
    "\n",
    "# my_list = [1,2,3]\n",
    "# swap(my_list, 0,1,2)\n",
    "# print(my_list)\n",
    "swap(l_1,1,2,3)\n",
    "print(l_1)"
   ]
  },
  {
   "cell_type": "markdown",
   "metadata": {},
   "source": [
    "## Two Pointers"
   ]
  },
  {
   "cell_type": "markdown",
   "metadata": {},
   "source": [
    "#### Syntax"
   ]
  },
  {
   "cell_type": "code",
   "execution_count": 6,
   "metadata": {},
   "outputs": [
    {
     "name": "stdout",
     "output_type": "stream",
     "text": [
      "[6, 5, 4, 3, 2, 1]\n"
     ]
    }
   ],
   "source": [
    "#  algo that keeps track of two indices (two pointers)\n",
    "# in place\n",
    "\n",
    "this_list = [1,2,3,4,5,6]\n",
    "\n",
    "def two_p_swap(alist):\n",
    "    left = 0\n",
    "    right = len(alist) -1 \n",
    "    while left <= right:\n",
    "        alist[left], alist[right] =  alist[right], alist[left]\n",
    "        left +=1\n",
    "        right -= 1\n",
    "two_p_swap(this_list)\n",
    "print( this_list)"
   ]
  },
  {
   "cell_type": "markdown",
   "metadata": {},
   "source": [
    "#### Video of Algorithms <br>\n",
    "<p>Watch the video about algorithms.</p>\n",
    "\n",
    "https://www.youtube.com/watch?v=Q9HjeFD62Uk\n",
    "\n",
    "https://www.youtube.com/watch?v=kPRA0W1kECg\n",
    "\n",
    "https://www.youtube.com/watch?v=ZZuD6iUe3Pc"
   ]
  },
  {
   "cell_type": "markdown",
   "metadata": {},
   "source": [
    "# Sorting Algorithms"
   ]
  },
  {
   "cell_type": "markdown",
   "metadata": {},
   "source": [
    "#### Bubble Sort\n",
    "\n",
    "Worst Case: O(n^2) Time - O(1) Space"
   ]
  },
  {
   "cell_type": "code",
   "execution_count": null,
   "metadata": {},
   "outputs": [],
   "source": [
    "# places next largest element in position with every single pass\n",
    "alist =[ 8,3,5,2,9,10,1,4]\n",
    "def swap(alist, x,y):\n",
    "    alist[x], alist[y] = alist[y], alist[x]"
   ]
  },
  {
   "cell_type": "markdown",
   "metadata": {},
   "source": [
    "##### Insertion Sort\n",
    "\n",
    "Worst Case: O(n^2) time - O(1)space"
   ]
  },
  {
   "cell_type": "code",
   "execution_count": 9,
   "metadata": {},
   "outputs": [
    {
     "name": "stdout",
     "output_type": "stream",
     "text": [
      "[8]\n",
      "3\n",
      "[8, 3]\n",
      "[3, 8]\n",
      "5\n",
      "[3, 8, 5]\n",
      "[3, 5, 8]\n",
      "2\n",
      "[3, 5, 8, 2]\n",
      "[3, 5, 2]\n",
      "[3, 2]\n",
      "[2, 3, 5, 8]\n",
      "9\n",
      "[2, 3, 5, 8, 9]\n",
      "10\n",
      "[2, 3, 5, 8, 9, 10]\n",
      "1\n",
      "[2, 3, 5, 8, 9, 10, 1]\n",
      "[2, 3, 5, 8, 9, 1]\n",
      "[2, 3, 5, 8, 1]\n",
      "[2, 3, 5, 1]\n",
      "[2, 3, 1]\n",
      "[2, 1]\n",
      "[1, 2, 3, 5, 8, 9, 10]\n",
      "4\n",
      "[1, 2, 3, 5, 8, 9, 10, 4]\n",
      "[1, 2, 3, 5, 8, 9, 4]\n",
      "[1, 2, 3, 5, 8, 4]\n",
      "[1, 2, 3, 5, 4]\n",
      "[1, 2, 3, 4, 5, 8, 9, 10]\n"
     ]
    }
   ],
   "source": [
    "# starting from beginning, inserting the next value into the sorted values \n",
    "\n",
    "alist =[ 8,3,5,2,9,10,1,4]\n",
    "def swap(alist, x,y):\n",
    "    alist[x], alist[y] = alist[y], alist[x]\n",
    "\n",
    "def insertion(alist):\n",
    "    for i in range(1, len(alist)):\n",
    "        print(alist[:i])\n",
    "        print(alist[i])\n",
    "        while i > 0 and alist[i]< alist [i-1]:\n",
    "            print(alist[:i+1])\n",
    "            swap(alist, i , i-1)\n",
    "            i -= 1\n",
    "\n",
    "(insertion(alist))\n",
    "print(alist)\n"
   ]
  },
  {
   "cell_type": "markdown",
   "metadata": {},
   "source": [
    "## Merge Sort"
   ]
  },
  {
   "cell_type": "markdown",
   "metadata": {},
   "source": [
    "#### How it Works"
   ]
  },
  {
   "cell_type": "code",
   "execution_count": 10,
   "metadata": {},
   "outputs": [
    {
     "ename": "UnboundLocalError",
     "evalue": "local variable 'i' referenced before assignment",
     "output_type": "error",
     "traceback": [
      "\u001b[0;31m---------------------------------------------------------------------------\u001b[0m",
      "\u001b[0;31mUnboundLocalError\u001b[0m                         Traceback (most recent call last)",
      "\u001b[1;32m/Users/heathersmallwood/Desktop/CodingTempleWork102023/Week3/Day3/Algorithms_INCLASS.ipynb Cell 21\u001b[0m line \u001b[0;36m4\n\u001b[1;32m     <a href='vscode-notebook-cell:/Users/heathersmallwood/Desktop/CodingTempleWork102023/Week3/Day3/Algorithms_INCLASS.ipynb#X26sZmlsZQ%3D%3D?line=42'>43</a>\u001b[0m         k \u001b[39m+\u001b[39m\u001b[39m=\u001b[39m \u001b[39m1\u001b[39m\n\u001b[1;32m     <a href='vscode-notebook-cell:/Users/heathersmallwood/Desktop/CodingTempleWork102023/Week3/Day3/Algorithms_INCLASS.ipynb#X26sZmlsZQ%3D%3D?line=44'>45</a>\u001b[0m     \u001b[39mreturn\u001b[39;00m alist\n\u001b[0;32m---> <a href='vscode-notebook-cell:/Users/heathersmallwood/Desktop/CodingTempleWork102023/Week3/Day3/Algorithms_INCLASS.ipynb#X26sZmlsZQ%3D%3D?line=45'>46</a>\u001b[0m \u001b[39mprint\u001b[39m(mergeSort(alist))\n",
      "\u001b[1;32m/Users/heathersmallwood/Desktop/CodingTempleWork102023/Week3/Day3/Algorithms_INCLASS.ipynb Cell 21\u001b[0m line \u001b[0;36m1\n\u001b[1;32m     <a href='vscode-notebook-cell:/Users/heathersmallwood/Desktop/CodingTempleWork102023/Week3/Day3/Algorithms_INCLASS.ipynb#X26sZmlsZQ%3D%3D?line=9'>10</a>\u001b[0m         left_half \u001b[39m=\u001b[39m alist[:middle]\n\u001b[1;32m     <a href='vscode-notebook-cell:/Users/heathersmallwood/Desktop/CodingTempleWork102023/Week3/Day3/Algorithms_INCLASS.ipynb#X26sZmlsZQ%3D%3D?line=10'>11</a>\u001b[0m         right_half \u001b[39m=\u001b[39m alist[middle:]\n\u001b[0;32m---> <a href='vscode-notebook-cell:/Users/heathersmallwood/Desktop/CodingTempleWork102023/Week3/Day3/Algorithms_INCLASS.ipynb#X26sZmlsZQ%3D%3D?line=12'>13</a>\u001b[0m         mergeSort(left_half)\n\u001b[1;32m     <a href='vscode-notebook-cell:/Users/heathersmallwood/Desktop/CodingTempleWork102023/Week3/Day3/Algorithms_INCLASS.ipynb#X26sZmlsZQ%3D%3D?line=13'>14</a>\u001b[0m         mergeSort(right_half)\n\u001b[1;32m     <a href='vscode-notebook-cell:/Users/heathersmallwood/Desktop/CodingTempleWork102023/Week3/Day3/Algorithms_INCLASS.ipynb#X26sZmlsZQ%3D%3D?line=15'>16</a>\u001b[0m \u001b[39m#  three pointer below\u001b[39;00m\n\u001b[1;32m     <a href='vscode-notebook-cell:/Users/heathersmallwood/Desktop/CodingTempleWork102023/Week3/Day3/Algorithms_INCLASS.ipynb#X26sZmlsZQ%3D%3D?line=16'>17</a>\u001b[0m \u001b[39m#  i = 0 tracks left pointer\u001b[39;00m\n\u001b[1;32m     <a href='vscode-notebook-cell:/Users/heathersmallwood/Desktop/CodingTempleWork102023/Week3/Day3/Algorithms_INCLASS.ipynb#X26sZmlsZQ%3D%3D?line=17'>18</a>\u001b[0m \u001b[39m#         j = 0 tracks right pointer\u001b[39;00m\n\u001b[1;32m     <a href='vscode-notebook-cell:/Users/heathersmallwood/Desktop/CodingTempleWork102023/Week3/Day3/Algorithms_INCLASS.ipynb#X26sZmlsZQ%3D%3D?line=18'>19</a>\u001b[0m \u001b[39m#         k = 0 tracks main pointer\u001b[39;00m\n",
      "\u001b[1;32m/Users/heathersmallwood/Desktop/CodingTempleWork102023/Week3/Day3/Algorithms_INCLASS.ipynb Cell 21\u001b[0m line \u001b[0;36m1\n\u001b[1;32m     <a href='vscode-notebook-cell:/Users/heathersmallwood/Desktop/CodingTempleWork102023/Week3/Day3/Algorithms_INCLASS.ipynb#X26sZmlsZQ%3D%3D?line=9'>10</a>\u001b[0m         left_half \u001b[39m=\u001b[39m alist[:middle]\n\u001b[1;32m     <a href='vscode-notebook-cell:/Users/heathersmallwood/Desktop/CodingTempleWork102023/Week3/Day3/Algorithms_INCLASS.ipynb#X26sZmlsZQ%3D%3D?line=10'>11</a>\u001b[0m         right_half \u001b[39m=\u001b[39m alist[middle:]\n\u001b[0;32m---> <a href='vscode-notebook-cell:/Users/heathersmallwood/Desktop/CodingTempleWork102023/Week3/Day3/Algorithms_INCLASS.ipynb#X26sZmlsZQ%3D%3D?line=12'>13</a>\u001b[0m         mergeSort(left_half)\n\u001b[1;32m     <a href='vscode-notebook-cell:/Users/heathersmallwood/Desktop/CodingTempleWork102023/Week3/Day3/Algorithms_INCLASS.ipynb#X26sZmlsZQ%3D%3D?line=13'>14</a>\u001b[0m         mergeSort(right_half)\n\u001b[1;32m     <a href='vscode-notebook-cell:/Users/heathersmallwood/Desktop/CodingTempleWork102023/Week3/Day3/Algorithms_INCLASS.ipynb#X26sZmlsZQ%3D%3D?line=15'>16</a>\u001b[0m \u001b[39m#  three pointer below\u001b[39;00m\n\u001b[1;32m     <a href='vscode-notebook-cell:/Users/heathersmallwood/Desktop/CodingTempleWork102023/Week3/Day3/Algorithms_INCLASS.ipynb#X26sZmlsZQ%3D%3D?line=16'>17</a>\u001b[0m \u001b[39m#  i = 0 tracks left pointer\u001b[39;00m\n\u001b[1;32m     <a href='vscode-notebook-cell:/Users/heathersmallwood/Desktop/CodingTempleWork102023/Week3/Day3/Algorithms_INCLASS.ipynb#X26sZmlsZQ%3D%3D?line=17'>18</a>\u001b[0m \u001b[39m#         j = 0 tracks right pointer\u001b[39;00m\n\u001b[1;32m     <a href='vscode-notebook-cell:/Users/heathersmallwood/Desktop/CodingTempleWork102023/Week3/Day3/Algorithms_INCLASS.ipynb#X26sZmlsZQ%3D%3D?line=18'>19</a>\u001b[0m \u001b[39m#         k = 0 tracks main pointer\u001b[39;00m\n",
      "\u001b[1;32m/Users/heathersmallwood/Desktop/CodingTempleWork102023/Week3/Day3/Algorithms_INCLASS.ipynb Cell 21\u001b[0m line \u001b[0;36m1\n\u001b[1;32m     <a href='vscode-notebook-cell:/Users/heathersmallwood/Desktop/CodingTempleWork102023/Week3/Day3/Algorithms_INCLASS.ipynb#X26sZmlsZQ%3D%3D?line=9'>10</a>\u001b[0m         left_half \u001b[39m=\u001b[39m alist[:middle]\n\u001b[1;32m     <a href='vscode-notebook-cell:/Users/heathersmallwood/Desktop/CodingTempleWork102023/Week3/Day3/Algorithms_INCLASS.ipynb#X26sZmlsZQ%3D%3D?line=10'>11</a>\u001b[0m         right_half \u001b[39m=\u001b[39m alist[middle:]\n\u001b[0;32m---> <a href='vscode-notebook-cell:/Users/heathersmallwood/Desktop/CodingTempleWork102023/Week3/Day3/Algorithms_INCLASS.ipynb#X26sZmlsZQ%3D%3D?line=12'>13</a>\u001b[0m         mergeSort(left_half)\n\u001b[1;32m     <a href='vscode-notebook-cell:/Users/heathersmallwood/Desktop/CodingTempleWork102023/Week3/Day3/Algorithms_INCLASS.ipynb#X26sZmlsZQ%3D%3D?line=13'>14</a>\u001b[0m         mergeSort(right_half)\n\u001b[1;32m     <a href='vscode-notebook-cell:/Users/heathersmallwood/Desktop/CodingTempleWork102023/Week3/Day3/Algorithms_INCLASS.ipynb#X26sZmlsZQ%3D%3D?line=15'>16</a>\u001b[0m \u001b[39m#  three pointer below\u001b[39;00m\n\u001b[1;32m     <a href='vscode-notebook-cell:/Users/heathersmallwood/Desktop/CodingTempleWork102023/Week3/Day3/Algorithms_INCLASS.ipynb#X26sZmlsZQ%3D%3D?line=16'>17</a>\u001b[0m \u001b[39m#  i = 0 tracks left pointer\u001b[39;00m\n\u001b[1;32m     <a href='vscode-notebook-cell:/Users/heathersmallwood/Desktop/CodingTempleWork102023/Week3/Day3/Algorithms_INCLASS.ipynb#X26sZmlsZQ%3D%3D?line=17'>18</a>\u001b[0m \u001b[39m#         j = 0 tracks right pointer\u001b[39;00m\n\u001b[1;32m     <a href='vscode-notebook-cell:/Users/heathersmallwood/Desktop/CodingTempleWork102023/Week3/Day3/Algorithms_INCLASS.ipynb#X26sZmlsZQ%3D%3D?line=18'>19</a>\u001b[0m \u001b[39m#         k = 0 tracks main pointer\u001b[39;00m\n",
      "\u001b[1;32m/Users/heathersmallwood/Desktop/CodingTempleWork102023/Week3/Day3/Algorithms_INCLASS.ipynb Cell 21\u001b[0m line \u001b[0;36m2\n\u001b[1;32m     <a href='vscode-notebook-cell:/Users/heathersmallwood/Desktop/CodingTempleWork102023/Week3/Day3/Algorithms_INCLASS.ipynb#X26sZmlsZQ%3D%3D?line=21'>22</a>\u001b[0m     k \u001b[39m=\u001b[39m \u001b[39m0\u001b[39m\n\u001b[1;32m     <a href='vscode-notebook-cell:/Users/heathersmallwood/Desktop/CodingTempleWork102023/Week3/Day3/Algorithms_INCLASS.ipynb#X26sZmlsZQ%3D%3D?line=23'>24</a>\u001b[0m \u001b[39m# comparing and sprting the elements form left and right untilome list is empty\u001b[39;00m\n\u001b[0;32m---> <a href='vscode-notebook-cell:/Users/heathersmallwood/Desktop/CodingTempleWork102023/Week3/Day3/Algorithms_INCLASS.ipynb#X26sZmlsZQ%3D%3D?line=25'>26</a>\u001b[0m \u001b[39mwhile\u001b[39;00m i \u001b[39m<\u001b[39m \u001b[39mlen\u001b[39m(left_half) \u001b[39mand\u001b[39;00m j \u001b[39m<\u001b[39m \u001b[39mlen\u001b[39m(right_half):\n\u001b[1;32m     <a href='vscode-notebook-cell:/Users/heathersmallwood/Desktop/CodingTempleWork102023/Week3/Day3/Algorithms_INCLASS.ipynb#X26sZmlsZQ%3D%3D?line=26'>27</a>\u001b[0m     \u001b[39mif\u001b[39;00m left_half[i] \u001b[39m<\u001b[39m right_half[j]:\n\u001b[1;32m     <a href='vscode-notebook-cell:/Users/heathersmallwood/Desktop/CodingTempleWork102023/Week3/Day3/Algorithms_INCLASS.ipynb#X26sZmlsZQ%3D%3D?line=27'>28</a>\u001b[0m         alist[k] \u001b[39m=\u001b[39m left_half[i]\n",
      "\u001b[0;31mUnboundLocalError\u001b[0m: local variable 'i' referenced before assignment"
     ]
    }
   ],
   "source": [
    "alist =[ 8,3,5,2,9,10,1,4]\n",
    "\n",
    "# step 1 break list in half down left hnnd side, merge list until one is empty, then \n",
    "\n",
    "# step : break list in half down left hnnd side, split down left hand side, followed by right\n",
    "def mergeSort(alist):\n",
    "    # using recursion \n",
    "    if len(alist) >1:\n",
    "        middle = len(alist)// 2\n",
    "        left_half = alist[:middle]\n",
    "        right_half = alist[middle:]\n",
    "\n",
    "        mergeSort(left_half)\n",
    "        mergeSort(right_half)\n",
    "\n",
    "#  three pointer below\n",
    "#  i = 0 tracks left pointer\n",
    "#         j = 0 tracks right pointer\n",
    "#         k = 0 tracks main pointer\n",
    "        i = 0\n",
    "        j = 0\n",
    "        k = 0\n",
    "\n",
    "    # comparing and sprting the elements form left and right untilome list is empty\n",
    "\n",
    "    while i < len(left_half) and j < len(right_half):\n",
    "        if left_half[i] < right_half[j]:\n",
    "            alist[k] = left_half[i]\n",
    "            i += 1\n",
    "        else:\n",
    "            alist[k] = right_half[j]\n",
    "            j += 1\n",
    "        k+= 1\n",
    "        # once a list is emptyfill in from other list\n",
    "    while i < len(left_half):\n",
    "        alist[k] =left_half[i]\n",
    "        i += 1\n",
    "        k += 1\n",
    "\n",
    "    while j < len(right_half):\n",
    "        alist[k] =left_half[j]\n",
    "        j += 1\n",
    "        k += 1\n",
    "\n",
    "    # return alist, no need to return, in place\n",
    "\n",
    "    mergeSort(alist)\n",
    "print(mergeSort(alist))\n",
    "\n",
    "\n"
   ]
  },
  {
   "cell_type": "markdown",
   "metadata": {},
   "source": [
    "# Binary Search\n",
    "\n",
    "The Binary Search algorithm works by finding the number in the middle of a given array and comparing it to the target. Given that the array is sorted\n",
    "\n",
    "* The worst case run time for this algorithm is `O(log(n))`"
   ]
  },
  {
   "cell_type": "code",
   "execution_count": 12,
   "metadata": {},
   "outputs": [
    {
     "data": {
      "text/plain": [
       "'WINNER WINNER CHICKEN DINNER found 8 at index 7'"
      ]
     },
     "execution_count": 12,
     "metadata": {},
     "output_type": "execute_result"
    }
   ],
   "source": [
    "def binarSearch(alist, target):\n",
    "    left = 0\n",
    "    right = len(alist) -1\n",
    "    while left <= right:\n",
    "        middle = (left + right)// 2\n",
    "        potential= alist[middle]\n",
    "        if target == potential:\n",
    "            return f'WINNER WINNER CHICKEN DINNER found {target} at index {middle}'\n",
    "        if target > potential:\n",
    "            left = middle +1\n",
    "        elif target < potential:\n",
    "            right = middle -1\n",
    "    return 'Target not found'\n",
    "\n",
    "binarSearch([1,2,3,4,5,6,7,8,22,45,64,78,90,1000], 8)\n",
    "\n",
    "\n",
    "\n",
    "\n"
   ]
  },
  {
   "cell_type": "markdown",
   "metadata": {},
   "source": [
    "# Exercises"
   ]
  },
  {
   "cell_type": "markdown",
   "metadata": {},
   "source": [
    "### Exercise #1 <br>\n",
    "<p>Reverse the list below in-place using an in-place algorithm.<br>For extra credit: Reverse the strings at the same time.</p>"
   ]
  },
  {
   "cell_type": "code",
   "execution_count": 17,
   "metadata": {},
   "outputs": [
    {
     "name": "stdout",
     "output_type": "stream",
     "text": [
      "['.', 'sentence', 'a', 'si', 'siht']\n",
      "['.', 'sentence', 'a', 'si', 'siht']\n"
     ]
    }
   ],
   "source": [
    "\n",
    "#  no hard coding\n",
    "\n",
    "# Use this as a guide:\n",
    "# this_list = [1,2,3,4,5,6]\n",
    "\n",
    "# def two_p_swap(alist):\n",
    "#     left = 0\n",
    "#     right = len(alist) -1 \n",
    "#     while left <= right:\n",
    "#         alist[left], alist[right] =  alist[right], alist[left]\n",
    "#         left +=1\n",
    "#         right -= 1\n",
    "# two_p_swap(this_list)\n",
    "# print( this_list)\n",
    "words = ['this' , 'is', 'a', 'sentence', '.']\n",
    "reversed_words = len(words)\n",
    "for i in range(reversed_words//2):\n",
    "    words[i], words[reversed_words -1-i]= words[reversed_words-1-i] [::1], words[i][::-1]\n",
    "print(words)\n",
    "\n",
    "\n",
    "words = ['this' , 'is', 'a', 'sentence', '.']\n",
    "# reversed_words = len(words)\n",
    "for i in range(len(words)//2):\n",
    "    words[i], words[len(words) -1-i] = words[len(words)-i-1] [::1], words[i][::-1]\n",
    "print(words)\n",
    "\n"
   ]
  },
  {
   "cell_type": "markdown",
   "metadata": {},
   "source": [
    "### Exercise #2 <br>\n",
    "<p>Create a function that counts how many distinct words are in the string below, then outputs a dictionary with the words as the key and the value as the amount of times that word appears in the string.<br>Should output:<br>{'a': 5,<br>\n",
    " 'abstract': 1,<br>\n",
    " 'an': 3,<br>\n",
    " 'array': 2, ... etc...</p>"
   ]
  },
  {
   "cell_type": "code",
   "execution_count": 27,
   "metadata": {},
   "outputs": [
    {
     "name": "stdout",
     "output_type": "stream",
     "text": [
      "{'In': 1, 'computing,': 1, 'a': 4, 'hash': 4, 'table': 2, 'map': 2, 'is': 1, 'data': 2, 'structure': 2, 'which': 2, 'implements': 1, 'an': 3, 'associative': 1, 'array': 2, 'abstract': 1, 'type,': 1, 'that': 1, 'can': 2, 'keys': 1, 'to': 2, 'values.': 1, 'A': 1, 'uses': 1, 'function': 1, 'compute': 1, 'index': 1, 'into': 1, 'of': 1, 'buckets': 1, 'or': 1, 'slots': 1, 'from': 1, 'the': 1, 'desired': 1, 'value': 1, 'be': 1, 'found': 1}\n"
     ]
    }
   ],
   "source": [
    "a_text = 'In computing, a hash table hash map is a data structure which implements an associative array abstract data type, a structure that can map keys to values. A hash table uses a hash function to compute an index into an array of buckets or slots from which the desired value can be found'\n",
    "\n",
    "# remember casing hint .split()\n",
    "\n",
    "#  extra credit  should ignore punctation hint: .strip()\n",
    "# def countWords(a_text):\n",
    "#     dict_word = {}\n",
    "#     for word in a_text.split():\n",
    "#         if word in dict_word:\n",
    "#             dict_word[word] += 1\n",
    "#         else:\n",
    "#             dict_word[word] =  1\n",
    "#     return dict_word\n",
    "\n",
    "# print(countWords)\n",
    "\n",
    "\n",
    "def countWords(a_text):\n",
    "    counts = dict()\n",
    "    words = a_text.split()\n",
    "    for word in words:\n",
    "        if word in counts:\n",
    "            counts[word] += 1\n",
    "        else:\n",
    "            counts[word] =  1\n",
    "    return counts\n",
    "\n",
    "print(countWords(a_text))\n",
    "\n",
    "\n",
    "\n",
    "\n",
    "\n"
   ]
  },
  {
   "cell_type": "markdown",
   "metadata": {},
   "source": [
    "## Exercise #3\n",
    "\n",
    "Write a program to implement a Linear Search Algorithm. Also in a comment, write the Time Complexity of the following algorithm.\n",
    "\n",
    "#### Hint: Linear Searching will require searching a list for a given number. "
   ]
  },
  {
   "cell_type": "code",
   "execution_count": 62,
   "metadata": {},
   "outputs": [
    {
     "data": {
      "text/plain": [
       "False"
      ]
     },
     "execution_count": 62,
     "metadata": {},
     "output_type": "execute_result"
    }
   ],
   "source": [
    "# time complexity = linear . details: take in list and target and return if it is in that list, is it first element, second element?ETC\n",
    "\n",
    "# nums = [ 1,4,24,3,31,27,8,9,77,79,75,54,34]\n",
    "# target = 77\n",
    "# def linearSearch(nums, target):\n",
    "#     for i in range(len(nums)):\n",
    "#         if nums[i] == target:\n",
    "#             return i\n",
    "#     return -1\n",
    "# print(linearSearch)\n",
    "\n",
    "\n",
    "# nums = [ 1,4,24,3,31,27,8,9,77,79,75,54,34]\n",
    "# target = 77\n",
    "# pos = -1\n",
    "# def linearSearch(nums, target):\n",
    "#     i = 0\n",
    "#     while i < len(nums):\n",
    "#         if list[i] == target:\n",
    "#             return True\n",
    "#             pos = i\n",
    "#         i = i + 1\n",
    "#     return False\n",
    "\n",
    "# if linearSearch(nums, target):\n",
    "#     print('found')\n",
    "# else:\n",
    "#     print('not found')\n",
    "# print()\n",
    "\n",
    "# nums = [ 1,4,24,3,31,27,8,9,77,79,75,54,34]\n",
    "# i = 0\n",
    "# found = False\n",
    "\n",
    "# while i < (nums):\n",
    "#     if nums[i] == i:\n",
    "#         found == True\n",
    "#         break\n",
    "#     i = i +1\n",
    "\n",
    "# if found == True:\n",
    "#     print('Number guessed')\n",
    "# else:\n",
    "#     print('Not guessed')\n",
    " \n",
    "\n",
    "\n",
    "nums = [ 1,4,24,3,31,27,8,9,77,79,75,54,34]\n",
    "# target = 77\n",
    "\n",
    "def linearSearch(nums, target):\n",
    "    n = len(nums)\n",
    "    for i in range(0, n):\n",
    "        if nums[i] == target:\n",
    "            return True\n",
    "        i = i + 1\n",
    "    return False\n",
    "linearSearch(nums, 2)\n",
    "\n",
    "\n"
   ]
  }
 ],
 "metadata": {
  "kernelspec": {
   "display_name": "Python 3",
   "language": "python",
   "name": "python3"
  },
  "language_info": {
   "codemirror_mode": {
    "name": "ipython",
    "version": 3
   },
   "file_extension": ".py",
   "mimetype": "text/x-python",
   "name": "python",
   "nbconvert_exporter": "python",
   "pygments_lexer": "ipython3",
   "version": "3.10.9"
  }
 },
 "nbformat": 4,
 "nbformat_minor": 2
}
